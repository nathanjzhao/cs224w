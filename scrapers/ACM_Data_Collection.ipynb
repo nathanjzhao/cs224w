{
  "nbformat": 4,
  "nbformat_minor": 0,
  "metadata": {
    "colab": {
      "provenance": []
    },
    "kernelspec": {
      "name": "python3",
      "display_name": "Python 3"
    },
    "language_info": {
      "name": "python"
    }
  },
  "cells": [
    {
      "cell_type": "code",
      "execution_count": null,
      "metadata": {
        "id": "6aFy2yMjgKPt"
      },
      "outputs": [],
      "source": [
        "import requests\n",
        "from bs4 import BeautifulSoup\n",
        "import pandas as pd"
      ]
    },
    {
      "cell_type": "code",
      "source": [
        "response = requests.get(\"https://www.sigsac.org/ccs/CCS2024/organization/prog-committee.html\")\n",
        "soup = BeautifulSoup(response.text, parser=\"html.parser\")\n",
        "name = []\n",
        "aff = []\n",
        "role = []\n",
        "track = []\n",
        "year = []"
      ],
      "metadata": {
        "id": "C4S1XwoVhYJ6"
      },
      "execution_count": null,
      "outputs": []
    },
    {
      "cell_type": "code",
      "source": [
        "rows = soup.find(attrs={'id':'program-chairs'}).next_sibling.next_sibling.find_all(\"li\")\n",
        "for row in rows:\n",
        "  row_split = row.text.split(\", \")\n",
        "  name.append(row_split[0])\n",
        "  aff.append(row_split[1])\n",
        "  role.append(\"PC Chair\")\n",
        "  track.append(\"N/A\")\n",
        "  year.append(\"2024\")"
      ],
      "metadata": {
        "id": "JO4uVp8SiHHA"
      },
      "execution_count": null,
      "outputs": []
    },
    {
      "cell_type": "code",
      "source": [
        "rows = soup.find(attrs={'id':'track-chairs'}).next_sibling.next_sibling.find_all(\"li\")\n",
        "for row in rows:\n",
        "  row_split = row.text.split(\", \")\n",
        "  name.append(row_split[1])\n",
        "  aff.append(row_split[2])\n",
        "  role.append(\"Track Chair\")\n",
        "  track.append(row_split[0])\n",
        "  year.append(\"2024\")"
      ],
      "metadata": {
        "id": "NhQcXKa6kUBX"
      },
      "execution_count": null,
      "outputs": []
    },
    {
      "cell_type": "code",
      "source": [
        "rows = soup.find(attrs={'id':'program-committee-1'}).next_sibling.next_sibling.find_all(\"li\")\n",
        "t = \"\"\n",
        "for row in rows:\n",
        "  if row.find(\"strong\"):\n",
        "    t = row.next_element.text\n",
        "    continue\n",
        "  row_split = row.text.split(\", \")\n",
        "  name.append(row_split[0])\n",
        "  aff.append(row_split[1])\n",
        "  role.append(\"PC Member\")\n",
        "  track.append(t)\n",
        "  year.append(\"2024\")"
      ],
      "metadata": {
        "id": "rFVArYCOmzJs"
      },
      "execution_count": null,
      "outputs": []
    },
    {
      "cell_type": "code",
      "source": [
        "response = requests.get(\"https://www.sigsac.org/ccs/CCS2023/orgs-program.html\")\n",
        "soup = BeautifulSoup(response.text, parser=\"html.parser\")"
      ],
      "metadata": {
        "id": "DBac1mxyo1BT"
      },
      "execution_count": null,
      "outputs": []
    },
    {
      "cell_type": "code",
      "source": [
        "name.extend([\"Cas Cremers\", \"Engin Kirda\"])\n",
        "aff.extend([\"CISPA Helmholtz Center for Information Security\", \"Northeastern University\"])\n",
        "role.extend([\"PC Chair\"] * 2)\n",
        "track.extend([\"N/A\"] * 2)\n",
        "year.extend([\"2023\"] * 2)"
      ],
      "metadata": {
        "id": "jUx7SVwth1g6"
      },
      "execution_count": null,
      "outputs": []
    },
    {
      "cell_type": "code",
      "source": [
        "name.extend([\"Manuel Egele\", \"Nick Nikiforakis\", \"Leyla Bilge\", \"Steve Kremer\", \"Veelasha Moonsamy\", \"Dario Fiore\", \"Selcuk Uluagac\", \"Elissa Redmiles\", \"Ghassan Karame\", \"Rob Jansen\"])\n",
        "aff.extend([\"Boston University\", \"Stony Brook University\", \"NortonLifeLock Research Group\", \"Inria\", \"Ruhr University Bochum\", \"IMDEA Software Institute\", \"Florida International University\", \"Max Planck Institute\", \"Ruhr-University Bochum\", \"U.S. Naval Research Laboratory\"])\n",
        "role.extend([\"Track Chair\"] * 10)\n",
        "track.extend([\"Software Security\", \"Web Security\", \"Network Security\", \"Formal Methods and Programming Languages\", \"Hardware, Side Channels, and Cyber-Physical Systems\", \"Applied Cryptography\", \"Machine Learning and Security\", \"Security Usability and Measurement\", \"Blockchain and Distributed Systems\", \"Privacy and Anonymity\"])\n",
        "year.extend([\"2023\"] * 10)"
      ],
      "metadata": {
        "id": "CGG9BI8LjHZh"
      },
      "execution_count": null,
      "outputs": []
    },
    {
      "cell_type": "code",
      "source": [
        "sections = soup.find_all(attrs={\"class\": \"fw-light text-decoration-underline\"})\n",
        "for section in sections:\n",
        "  section_name = section.text.strip()[:-1]\n",
        "  rows = section.next_sibling.next_sibling.find_all(\"tr\")\n",
        "  for row in rows:\n",
        "    row_split = row.find_all(\"td\")\n",
        "    name.append(row_split[0].text.strip())\n",
        "    aff.append(row_split[1].text.strip())\n",
        "    role.append(\"PC Member\")\n",
        "    track.append(section_name)\n",
        "    year.append(\"2023\")"
      ],
      "metadata": {
        "id": "TCLzIFykkSbe"
      },
      "execution_count": null,
      "outputs": []
    },
    {
      "cell_type": "code",
      "source": [
        "response = requests.get(\"https://www.sigsac.org/ccs/CCS2022/organization/prog-committee.html\")\n",
        "soup = BeautifulSoup(response.text, parser=\"html.parser\")"
      ],
      "metadata": {
        "id": "8J7cODyRpdAz"
      },
      "execution_count": null,
      "outputs": []
    },
    {
      "cell_type": "code",
      "source": [
        "rows = soup.find(attrs={'id':'program-chairs'}).next_sibling.next_sibling.find_all(\"li\")\n",
        "for row in rows:\n",
        "  row_split = row.text.split(\", \")\n",
        "  name.append(row_split[0])\n",
        "  aff.append(row_split[1])\n",
        "  role.append(\"PC Chair\")\n",
        "  track.append(\"N/A\")\n",
        "  year.append(\"2022\")"
      ],
      "metadata": {
        "id": "59ijPjXDpgsc"
      },
      "execution_count": null,
      "outputs": []
    },
    {
      "cell_type": "code",
      "source": [
        "rows = soup.find(attrs={'id':'track-chairs'}).next_sibling.next_sibling.find_all(\"li\")\n",
        "for row in rows:\n",
        "  row_split = row.text.split(\", \")\n",
        "  name.append(row_split[1])\n",
        "  aff.append(row_split[2])\n",
        "  role.append(\"Track Chair\")\n",
        "  track.append(row_split[0])\n",
        "  year.append(\"2022\")"
      ],
      "metadata": {
        "id": "mmFo71h7riNS"
      },
      "execution_count": null,
      "outputs": []
    },
    {
      "cell_type": "code",
      "source": [
        "rows = soup.find(attrs={'id':'program-committee-by-track'}).next_sibling.next_sibling.find_all(\"li\")\n",
        "t = \"\"\n",
        "for row in rows:\n",
        "  if row.find(\"strong\"):\n",
        "    t = row.next_element.text\n",
        "    continue\n",
        "  row_split = row.text.split(\", \")\n",
        "  name.append(row_split[0])\n",
        "  aff.append(row_split[1])\n",
        "  role.append(\"PC Member\")\n",
        "  track.append(t)\n",
        "  year.append(\"2022\")"
      ],
      "metadata": {
        "id": "S3LKaZH-rmrP"
      },
      "execution_count": null,
      "outputs": []
    },
    {
      "cell_type": "code",
      "source": [
        "df = pd.DataFrame({\"Name\":name, \"Affiliation\":aff, \"Role\":role, \"Track\":track, \"Year\":year})\n",
        "df.to_csv(\"ACM.csv\", index=False)"
      ],
      "metadata": {
        "id": "xRAx6OWzgqTi"
      },
      "execution_count": null,
      "outputs": []
    }
  ]
}