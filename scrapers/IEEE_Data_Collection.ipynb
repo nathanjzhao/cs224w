{
  "nbformat": 4,
  "nbformat_minor": 0,
  "metadata": {
    "colab": {
      "provenance": []
    },
    "kernelspec": {
      "name": "python3",
      "display_name": "Python 3"
    },
    "language_info": {
      "name": "python"
    }
  },
  "cells": [
    {
      "cell_type": "code",
      "execution_count": null,
      "metadata": {
        "id": "I3qd5K4Pp1zl"
      },
      "outputs": [],
      "source": [
        "import requests\n",
        "from bs4 import BeautifulSoup\n",
        "import pandas as pd"
      ]
    },
    {
      "cell_type": "markdown",
      "source": [
        "**IEEE**"
      ],
      "metadata": {
        "id": "dA1WFuOFqSt9"
      }
    },
    {
      "cell_type": "code",
      "source": [
        "response = requests.get(\"https://www.ieee-security.org/TC/SP2022/cfpapers.html\")\n",
        "soup = BeautifulSoup(response.text, parser=\"html.parser\")\n",
        "name = []\n",
        "aff = []\n",
        "role = []\n",
        "year = []"
      ],
      "metadata": {
        "id": "1-uFPd0uqV5m"
      },
      "execution_count": null,
      "outputs": []
    },
    {
      "cell_type": "code",
      "source": [
        "rows = soup.find(attrs={'id':'pc-chairs'}).next_sibling.next_sibling.find(\"tbody\").find_all(\"tr\")\n",
        "for row in rows:\n",
        "    name.append(row.find_all(\"td\")[0].text)\n",
        "    aff.append(row.find_all(\"td\")[1].text)\n",
        "    role.append(\"PC Chair\")\n",
        "    year.append(\"2022\")"
      ],
      "metadata": {
        "id": "nEY5pcxisLaw"
      },
      "execution_count": null,
      "outputs": []
    },
    {
      "cell_type": "code",
      "source": [
        "rows = soup.find(attrs={'id':'associate-chairs'}).next_sibling.next_sibling.find(\"tbody\").find_all(\"tr\")\n",
        "for row in rows:\n",
        "    name.append(row.find_all(\"td\")[0].text)\n",
        "    aff.append(row.find_all(\"td\")[1].text)\n",
        "    role.append(\"Associate Chair\")\n",
        "    year.append(\"2022\")"
      ],
      "metadata": {
        "id": "l5_3QKYfIkt6"
      },
      "execution_count": null,
      "outputs": []
    },
    {
      "cell_type": "code",
      "source": [
        "rows = soup.find(attrs={'id':'steering-committee'}).next_sibling.next_sibling.find(\"tbody\").find_all(\"tr\")\n",
        "for row in rows:\n",
        "    name.append(\" \".join(row.find_all(\"td\")[0].text.split()[:2]))\n",
        "    aff.append(row.find_all(\"td\")[1].text)\n",
        "    role.append(\"Steering Committee\")\n",
        "    year.append(\"2022\")"
      ],
      "metadata": {
        "id": "4izlK1RPIlrO"
      },
      "execution_count": null,
      "outputs": []
    },
    {
      "cell_type": "code",
      "source": [
        "rows = soup.find(attrs={'id':'pc-members'}).next_sibling.next_sibling.find(\"tbody\").find_all(\"tr\")\n",
        "for row in rows:\n",
        "    name.append(row.find_all(\"td\")[0].text)\n",
        "    aff.append(row.find_all(\"td\")[1].text)\n",
        "    role.append(\"PC Member\")\n",
        "    year.append(\"2022\")"
      ],
      "metadata": {
        "id": "qzY0acT0Il0p"
      },
      "execution_count": null,
      "outputs": []
    },
    {
      "cell_type": "code",
      "source": [
        "response = requests.get(\"https://sp2023.ieee-security.org/cfpapers.html\")\n",
        "soup = BeautifulSoup(response.text, parser=\"html.parser\")"
      ],
      "metadata": {
        "id": "QT8c1_gStYmW"
      },
      "execution_count": null,
      "outputs": []
    },
    {
      "cell_type": "code",
      "source": [
        "rows = soup.find(attrs={'id':'pc-chairs'}).next_sibling.next_sibling.find(\"tbody\").find_all(\"tr\")\n",
        "for row in rows:\n",
        "    print(row.find_all(\"td\")[0].text)\n",
        "    name.append(row.find_all(\"td\")[0].text)\n",
        "    aff.append(row.find_all(\"td\")[1].text)\n",
        "    role.append(\"PC Chair\")\n",
        "    year.append(\"2023\")"
      ],
      "metadata": {
        "colab": {
          "base_uri": "https://localhost:8080/"
        },
        "id": "GcG8bpn8Urh5",
        "outputId": "22dcc9d4-8964-4983-b5c0-f840c8df1127"
      },
      "execution_count": null,
      "outputs": [
        {
          "output_type": "stream",
          "name": "stdout",
          "text": [
            "Thomas Ristenpart\n",
            "Patrick Traynor\n"
          ]
        }
      ]
    },
    {
      "cell_type": "code",
      "source": [
        "rows = soup.find(attrs={'id':'associate-chairs'}).next_sibling.next_sibling.find(\"tbody\").find_all(\"tr\")\n",
        "for row in rows:\n",
        "    print(row.find_all(\"td\")[0].text)\n",
        "    name.append(row.find_all(\"td\")[0].text)\n",
        "    aff.append(row.find_all(\"td\")[1].text)\n",
        "    role.append(\"Associate Chair\")\n",
        "    year.append(\"2023\")"
      ],
      "metadata": {
        "colab": {
          "base_uri": "https://localhost:8080/"
        },
        "id": "1ErXnyj5U7Qg",
        "outputId": "fdd9f998-1c8b-4ca7-a421-92209c277047"
      },
      "execution_count": null,
      "outputs": [
        {
          "output_type": "stream",
          "name": "stdout",
          "text": [
            "Henry Corrigan-Gibbs\n",
            "Adam Doupe\n",
            "Sarah Meiklejohn\n",
            "Nicolas Papernot\n",
            "Christina Poepper\n",
            "Mariana Raykova\n",
            "Elissa Redmiles\n",
            "Andrei Sabelfeld\n",
            "Ben Stock\n",
            "Yuval Yarom\n"
          ]
        }
      ]
    },
    {
      "cell_type": "code",
      "source": [
        "rows = soup.find(attrs={'id':'rec-chair'}).next_sibling.next_sibling.find(\"tbody\").find_all(\"tr\")\n",
        "for row in rows:\n",
        "    print(row.find_all(\"td\")[0].text)\n",
        "    name.append(row.find_all(\"td\")[0].text)\n",
        "    aff.append(row.find_all(\"td\")[1].text)\n",
        "    role.append(\"Rec Chair\")\n",
        "    year.append(\"2023\")"
      ],
      "metadata": {
        "colab": {
          "base_uri": "https://localhost:8080/"
        },
        "id": "ta18uwgGVKgG",
        "outputId": "5168d972-8749-4c93-849e-74f91aac3ef5"
      },
      "execution_count": null,
      "outputs": [
        {
          "output_type": "stream",
          "name": "stdout",
          "text": [
            "Srdjan Capkun \n"
          ]
        }
      ]
    },
    {
      "cell_type": "code",
      "source": [
        "rows = soup.find(attrs={'id':'pc-members'}).next_sibling.next_sibling.find(\"tbody\").find_all(\"tr\")\n",
        "for row in rows:\n",
        "    name.append(row.find_all(\"td\")[0].text)\n",
        "    aff.append(row.find_all(\"td\")[1].text)\n",
        "    role.append(\"PC Member\")\n",
        "    year.append(\"2023\")"
      ],
      "metadata": {
        "id": "t82WapnlVTrH"
      },
      "execution_count": null,
      "outputs": []
    },
    {
      "cell_type": "code",
      "source": [
        "response = requests.get(\"https://sp2024.ieee-security.org/cfpapers.html\")\n",
        "soup = BeautifulSoup(response.text, parser=\"html.parser\")"
      ],
      "metadata": {
        "id": "JPe4u0DnVZLI"
      },
      "execution_count": null,
      "outputs": []
    },
    {
      "cell_type": "code",
      "source": [
        "rows = soup.find(attrs={'id':'pc-chairs'}).next_sibling.next_sibling.find(\"tbody\").find_all(\"tr\")\n",
        "for row in rows:\n",
        "    print(row.find_all(\"td\")[0].text)\n",
        "    name.append(row.find_all(\"td\")[0].text)\n",
        "    aff.append(row.find_all(\"td\")[1].text)\n",
        "    role.append(\"PC Chair\")\n",
        "    year.append(\"2024\")"
      ],
      "metadata": {
        "colab": {
          "base_uri": "https://localhost:8080/"
        },
        "id": "he8QY4JgVlae",
        "outputId": "1962cd2a-eb32-41a1-bb91-0e02de4b090d"
      },
      "execution_count": null,
      "outputs": [
        {
          "output_type": "stream",
          "name": "stdout",
          "text": [
            "Patrick Traynor\n",
            "William Enck\n"
          ]
        }
      ]
    },
    {
      "cell_type": "code",
      "source": [
        "rows = soup.find(attrs={'id':'associate-chairs'}).next_sibling.next_sibling.find(\"tbody\").find_all(\"tr\")\n",
        "for row in rows:\n",
        "    print(row.find_all(\"td\")[0].text)\n",
        "    name.append(row.find_all(\"td\")[0].text)\n",
        "    aff.append(row.find_all(\"td\")[1].text)\n",
        "    role.append(\"Associate Chair\")\n",
        "    year.append(\"2024\")"
      ],
      "metadata": {
        "colab": {
          "base_uri": "https://localhost:8080/"
        },
        "id": "hyZU276XVupV",
        "outputId": "b5542d6a-7044-4e0b-9c3e-db33ba5abfda"
      },
      "execution_count": null,
      "outputs": [
        {
          "output_type": "stream",
          "name": "stdout",
          "text": [
            "Aanjhan Ranganathan\n",
            "Adam Bates\n",
            "Andrew Paverd\n",
            "Hamed Okhravi\n",
            "Matt Fredrikson\n",
            "Matteo Maffei\n",
            "Micah Sherr\n",
            "Sascha Fahl\n",
            "Tiffany Bao\n",
            "Yuan Tian\n"
          ]
        }
      ]
    },
    {
      "cell_type": "code",
      "source": [
        "rows = soup.find(attrs={'id':'rec-chair'}).next_sibling.next_sibling.find(\"tbody\").find_all(\"tr\")\n",
        "for row in rows:\n",
        "    print(row.find_all(\"td\")[0].text)\n",
        "    name.append(row.find_all(\"td\")[0].text)\n",
        "    aff.append(row.find_all(\"td\")[1].text)\n",
        "    role.append(\"Rec Chair\")\n",
        "    year.append(\"2024\")"
      ],
      "metadata": {
        "colab": {
          "base_uri": "https://localhost:8080/"
        },
        "id": "nEqZqSNSV8tC",
        "outputId": "91e49f41-7774-423c-b3c8-fa2b1856e05e"
      },
      "execution_count": null,
      "outputs": [
        {
          "output_type": "stream",
          "name": "stdout",
          "text": [
            "RenÃ© Mayrhofer\n"
          ]
        }
      ]
    },
    {
      "cell_type": "code",
      "source": [
        "rows = soup.find(attrs={'id':'pc-members'}).next_sibling.next_sibling.find(\"tbody\").find_all(\"tr\")\n",
        "for row in rows:\n",
        "    name.append(row.find_all(\"td\")[0].text)\n",
        "    aff.append(row.find_all(\"td\")[1].text)\n",
        "    role.append(\"PC Member\")\n",
        "    year.append(\"2024\")"
      ],
      "metadata": {
        "id": "F456whC6V_UO"
      },
      "execution_count": null,
      "outputs": []
    },
    {
      "cell_type": "code",
      "source": [
        "df = pd.DataFrame({\"Name\":name, \"Affiliation\":aff, \"Role\":role, \"Year\":year})\n",
        "df"
      ],
      "metadata": {
        "colab": {
          "base_uri": "https://localhost:8080/",
          "height": 424
        },
        "id": "5FrWsb4oWJ1v",
        "outputId": "a0056d9f-8e38-4bac-b63f-e058cfc848d3"
      },
      "execution_count": null,
      "outputs": [
        {
          "output_type": "execute_result",
          "data": {
            "text/plain": [
              "                    Name                          Affiliation  \\\n",
              "0          Thorsten Holz              Ruhr-Universität Bochum   \n",
              "1      Thomas Ristenpart                   Cornell University   \n",
              "2         Joseph Bonneau                  New York University   \n",
              "3    Cristiano Giuffrida         Vrije Universiteit Amsterdam   \n",
              "4        Zakir Durumeric                  Stanford University   \n",
              "..                   ...                                  ...   \n",
              "607              Zane Ma      Georgia Institute of Technology   \n",
              "608           Zhen Huang                    DePaul University   \n",
              "609         Zhiqiang Lin                Ohio State University   \n",
              "610          Zhiyun Qian  University of California, Riverside   \n",
              "611          Ziqiao Zhou                   Microsoft Research   \n",
              "\n",
              "                Role  Year  \n",
              "0           PC Chair  2022  \n",
              "1           PC Chair  2022  \n",
              "2    Associate Chair  2022  \n",
              "3    Associate Chair  2022  \n",
              "4    Associate Chair  2022  \n",
              "..               ...   ...  \n",
              "607        PC Member  2024  \n",
              "608        PC Member  2024  \n",
              "609        PC Member  2024  \n",
              "610        PC Member  2024  \n",
              "611        PC Member  2024  \n",
              "\n",
              "[612 rows x 4 columns]"
            ],
            "text/html": [
              "\n",
              "  <div id=\"df-1bbdc515-7079-472e-b011-a16ab6a68cde\" class=\"colab-df-container\">\n",
              "    <div>\n",
              "<style scoped>\n",
              "    .dataframe tbody tr th:only-of-type {\n",
              "        vertical-align: middle;\n",
              "    }\n",
              "\n",
              "    .dataframe tbody tr th {\n",
              "        vertical-align: top;\n",
              "    }\n",
              "\n",
              "    .dataframe thead th {\n",
              "        text-align: right;\n",
              "    }\n",
              "</style>\n",
              "<table border=\"1\" class=\"dataframe\">\n",
              "  <thead>\n",
              "    <tr style=\"text-align: right;\">\n",
              "      <th></th>\n",
              "      <th>Name</th>\n",
              "      <th>Affiliation</th>\n",
              "      <th>Role</th>\n",
              "      <th>Year</th>\n",
              "    </tr>\n",
              "  </thead>\n",
              "  <tbody>\n",
              "    <tr>\n",
              "      <th>0</th>\n",
              "      <td>Thorsten Holz</td>\n",
              "      <td>Ruhr-Universität Bochum</td>\n",
              "      <td>PC Chair</td>\n",
              "      <td>2022</td>\n",
              "    </tr>\n",
              "    <tr>\n",
              "      <th>1</th>\n",
              "      <td>Thomas Ristenpart</td>\n",
              "      <td>Cornell University</td>\n",
              "      <td>PC Chair</td>\n",
              "      <td>2022</td>\n",
              "    </tr>\n",
              "    <tr>\n",
              "      <th>2</th>\n",
              "      <td>Joseph Bonneau</td>\n",
              "      <td>New York University</td>\n",
              "      <td>Associate Chair</td>\n",
              "      <td>2022</td>\n",
              "    </tr>\n",
              "    <tr>\n",
              "      <th>3</th>\n",
              "      <td>Cristiano Giuffrida</td>\n",
              "      <td>Vrije Universiteit Amsterdam</td>\n",
              "      <td>Associate Chair</td>\n",
              "      <td>2022</td>\n",
              "    </tr>\n",
              "    <tr>\n",
              "      <th>4</th>\n",
              "      <td>Zakir Durumeric</td>\n",
              "      <td>Stanford University</td>\n",
              "      <td>Associate Chair</td>\n",
              "      <td>2022</td>\n",
              "    </tr>\n",
              "    <tr>\n",
              "      <th>...</th>\n",
              "      <td>...</td>\n",
              "      <td>...</td>\n",
              "      <td>...</td>\n",
              "      <td>...</td>\n",
              "    </tr>\n",
              "    <tr>\n",
              "      <th>607</th>\n",
              "      <td>Zane Ma</td>\n",
              "      <td>Georgia Institute of Technology</td>\n",
              "      <td>PC Member</td>\n",
              "      <td>2024</td>\n",
              "    </tr>\n",
              "    <tr>\n",
              "      <th>608</th>\n",
              "      <td>Zhen Huang</td>\n",
              "      <td>DePaul University</td>\n",
              "      <td>PC Member</td>\n",
              "      <td>2024</td>\n",
              "    </tr>\n",
              "    <tr>\n",
              "      <th>609</th>\n",
              "      <td>Zhiqiang Lin</td>\n",
              "      <td>Ohio State University</td>\n",
              "      <td>PC Member</td>\n",
              "      <td>2024</td>\n",
              "    </tr>\n",
              "    <tr>\n",
              "      <th>610</th>\n",
              "      <td>Zhiyun Qian</td>\n",
              "      <td>University of California, Riverside</td>\n",
              "      <td>PC Member</td>\n",
              "      <td>2024</td>\n",
              "    </tr>\n",
              "    <tr>\n",
              "      <th>611</th>\n",
              "      <td>Ziqiao Zhou</td>\n",
              "      <td>Microsoft Research</td>\n",
              "      <td>PC Member</td>\n",
              "      <td>2024</td>\n",
              "    </tr>\n",
              "  </tbody>\n",
              "</table>\n",
              "<p>612 rows × 4 columns</p>\n",
              "</div>\n",
              "    <div class=\"colab-df-buttons\">\n",
              "\n",
              "  <div class=\"colab-df-container\">\n",
              "    <button class=\"colab-df-convert\" onclick=\"convertToInteractive('df-1bbdc515-7079-472e-b011-a16ab6a68cde')\"\n",
              "            title=\"Convert this dataframe to an interactive table.\"\n",
              "            style=\"display:none;\">\n",
              "\n",
              "  <svg xmlns=\"http://www.w3.org/2000/svg\" height=\"24px\" viewBox=\"0 -960 960 960\">\n",
              "    <path d=\"M120-120v-720h720v720H120Zm60-500h600v-160H180v160Zm220 220h160v-160H400v160Zm0 220h160v-160H400v160ZM180-400h160v-160H180v160Zm440 0h160v-160H620v160ZM180-180h160v-160H180v160Zm440 0h160v-160H620v160Z\"/>\n",
              "  </svg>\n",
              "    </button>\n",
              "\n",
              "  <style>\n",
              "    .colab-df-container {\n",
              "      display:flex;\n",
              "      gap: 12px;\n",
              "    }\n",
              "\n",
              "    .colab-df-convert {\n",
              "      background-color: #E8F0FE;\n",
              "      border: none;\n",
              "      border-radius: 50%;\n",
              "      cursor: pointer;\n",
              "      display: none;\n",
              "      fill: #1967D2;\n",
              "      height: 32px;\n",
              "      padding: 0 0 0 0;\n",
              "      width: 32px;\n",
              "    }\n",
              "\n",
              "    .colab-df-convert:hover {\n",
              "      background-color: #E2EBFA;\n",
              "      box-shadow: 0px 1px 2px rgba(60, 64, 67, 0.3), 0px 1px 3px 1px rgba(60, 64, 67, 0.15);\n",
              "      fill: #174EA6;\n",
              "    }\n",
              "\n",
              "    .colab-df-buttons div {\n",
              "      margin-bottom: 4px;\n",
              "    }\n",
              "\n",
              "    [theme=dark] .colab-df-convert {\n",
              "      background-color: #3B4455;\n",
              "      fill: #D2E3FC;\n",
              "    }\n",
              "\n",
              "    [theme=dark] .colab-df-convert:hover {\n",
              "      background-color: #434B5C;\n",
              "      box-shadow: 0px 1px 3px 1px rgba(0, 0, 0, 0.15);\n",
              "      filter: drop-shadow(0px 1px 2px rgba(0, 0, 0, 0.3));\n",
              "      fill: #FFFFFF;\n",
              "    }\n",
              "  </style>\n",
              "\n",
              "    <script>\n",
              "      const buttonEl =\n",
              "        document.querySelector('#df-1bbdc515-7079-472e-b011-a16ab6a68cde button.colab-df-convert');\n",
              "      buttonEl.style.display =\n",
              "        google.colab.kernel.accessAllowed ? 'block' : 'none';\n",
              "\n",
              "      async function convertToInteractive(key) {\n",
              "        const element = document.querySelector('#df-1bbdc515-7079-472e-b011-a16ab6a68cde');\n",
              "        const dataTable =\n",
              "          await google.colab.kernel.invokeFunction('convertToInteractive',\n",
              "                                                    [key], {});\n",
              "        if (!dataTable) return;\n",
              "\n",
              "        const docLinkHtml = 'Like what you see? Visit the ' +\n",
              "          '<a target=\"_blank\" href=https://colab.research.google.com/notebooks/data_table.ipynb>data table notebook</a>'\n",
              "          + ' to learn more about interactive tables.';\n",
              "        element.innerHTML = '';\n",
              "        dataTable['output_type'] = 'display_data';\n",
              "        await google.colab.output.renderOutput(dataTable, element);\n",
              "        const docLink = document.createElement('div');\n",
              "        docLink.innerHTML = docLinkHtml;\n",
              "        element.appendChild(docLink);\n",
              "      }\n",
              "    </script>\n",
              "  </div>\n",
              "\n",
              "\n",
              "<div id=\"df-aa3d2d6d-113d-4411-8da6-4c4f8f97cb75\">\n",
              "  <button class=\"colab-df-quickchart\" onclick=\"quickchart('df-aa3d2d6d-113d-4411-8da6-4c4f8f97cb75')\"\n",
              "            title=\"Suggest charts\"\n",
              "            style=\"display:none;\">\n",
              "\n",
              "<svg xmlns=\"http://www.w3.org/2000/svg\" height=\"24px\"viewBox=\"0 0 24 24\"\n",
              "     width=\"24px\">\n",
              "    <g>\n",
              "        <path d=\"M19 3H5c-1.1 0-2 .9-2 2v14c0 1.1.9 2 2 2h14c1.1 0 2-.9 2-2V5c0-1.1-.9-2-2-2zM9 17H7v-7h2v7zm4 0h-2V7h2v10zm4 0h-2v-4h2v4z\"/>\n",
              "    </g>\n",
              "</svg>\n",
              "  </button>\n",
              "\n",
              "<style>\n",
              "  .colab-df-quickchart {\n",
              "      --bg-color: #E8F0FE;\n",
              "      --fill-color: #1967D2;\n",
              "      --hover-bg-color: #E2EBFA;\n",
              "      --hover-fill-color: #174EA6;\n",
              "      --disabled-fill-color: #AAA;\n",
              "      --disabled-bg-color: #DDD;\n",
              "  }\n",
              "\n",
              "  [theme=dark] .colab-df-quickchart {\n",
              "      --bg-color: #3B4455;\n",
              "      --fill-color: #D2E3FC;\n",
              "      --hover-bg-color: #434B5C;\n",
              "      --hover-fill-color: #FFFFFF;\n",
              "      --disabled-bg-color: #3B4455;\n",
              "      --disabled-fill-color: #666;\n",
              "  }\n",
              "\n",
              "  .colab-df-quickchart {\n",
              "    background-color: var(--bg-color);\n",
              "    border: none;\n",
              "    border-radius: 50%;\n",
              "    cursor: pointer;\n",
              "    display: none;\n",
              "    fill: var(--fill-color);\n",
              "    height: 32px;\n",
              "    padding: 0;\n",
              "    width: 32px;\n",
              "  }\n",
              "\n",
              "  .colab-df-quickchart:hover {\n",
              "    background-color: var(--hover-bg-color);\n",
              "    box-shadow: 0 1px 2px rgba(60, 64, 67, 0.3), 0 1px 3px 1px rgba(60, 64, 67, 0.15);\n",
              "    fill: var(--button-hover-fill-color);\n",
              "  }\n",
              "\n",
              "  .colab-df-quickchart-complete:disabled,\n",
              "  .colab-df-quickchart-complete:disabled:hover {\n",
              "    background-color: var(--disabled-bg-color);\n",
              "    fill: var(--disabled-fill-color);\n",
              "    box-shadow: none;\n",
              "  }\n",
              "\n",
              "  .colab-df-spinner {\n",
              "    border: 2px solid var(--fill-color);\n",
              "    border-color: transparent;\n",
              "    border-bottom-color: var(--fill-color);\n",
              "    animation:\n",
              "      spin 1s steps(1) infinite;\n",
              "  }\n",
              "\n",
              "  @keyframes spin {\n",
              "    0% {\n",
              "      border-color: transparent;\n",
              "      border-bottom-color: var(--fill-color);\n",
              "      border-left-color: var(--fill-color);\n",
              "    }\n",
              "    20% {\n",
              "      border-color: transparent;\n",
              "      border-left-color: var(--fill-color);\n",
              "      border-top-color: var(--fill-color);\n",
              "    }\n",
              "    30% {\n",
              "      border-color: transparent;\n",
              "      border-left-color: var(--fill-color);\n",
              "      border-top-color: var(--fill-color);\n",
              "      border-right-color: var(--fill-color);\n",
              "    }\n",
              "    40% {\n",
              "      border-color: transparent;\n",
              "      border-right-color: var(--fill-color);\n",
              "      border-top-color: var(--fill-color);\n",
              "    }\n",
              "    60% {\n",
              "      border-color: transparent;\n",
              "      border-right-color: var(--fill-color);\n",
              "    }\n",
              "    80% {\n",
              "      border-color: transparent;\n",
              "      border-right-color: var(--fill-color);\n",
              "      border-bottom-color: var(--fill-color);\n",
              "    }\n",
              "    90% {\n",
              "      border-color: transparent;\n",
              "      border-bottom-color: var(--fill-color);\n",
              "    }\n",
              "  }\n",
              "</style>\n",
              "\n",
              "  <script>\n",
              "    async function quickchart(key) {\n",
              "      const quickchartButtonEl =\n",
              "        document.querySelector('#' + key + ' button');\n",
              "      quickchartButtonEl.disabled = true;  // To prevent multiple clicks.\n",
              "      quickchartButtonEl.classList.add('colab-df-spinner');\n",
              "      try {\n",
              "        const charts = await google.colab.kernel.invokeFunction(\n",
              "            'suggestCharts', [key], {});\n",
              "      } catch (error) {\n",
              "        console.error('Error during call to suggestCharts:', error);\n",
              "      }\n",
              "      quickchartButtonEl.classList.remove('colab-df-spinner');\n",
              "      quickchartButtonEl.classList.add('colab-df-quickchart-complete');\n",
              "    }\n",
              "    (() => {\n",
              "      let quickchartButtonEl =\n",
              "        document.querySelector('#df-aa3d2d6d-113d-4411-8da6-4c4f8f97cb75 button');\n",
              "      quickchartButtonEl.style.display =\n",
              "        google.colab.kernel.accessAllowed ? 'block' : 'none';\n",
              "    })();\n",
              "  </script>\n",
              "</div>\n",
              "\n",
              "  <div id=\"id_46ffc36b-aba2-4192-ab5e-22245b8a040d\">\n",
              "    <style>\n",
              "      .colab-df-generate {\n",
              "        background-color: #E8F0FE;\n",
              "        border: none;\n",
              "        border-radius: 50%;\n",
              "        cursor: pointer;\n",
              "        display: none;\n",
              "        fill: #1967D2;\n",
              "        height: 32px;\n",
              "        padding: 0 0 0 0;\n",
              "        width: 32px;\n",
              "      }\n",
              "\n",
              "      .colab-df-generate:hover {\n",
              "        background-color: #E2EBFA;\n",
              "        box-shadow: 0px 1px 2px rgba(60, 64, 67, 0.3), 0px 1px 3px 1px rgba(60, 64, 67, 0.15);\n",
              "        fill: #174EA6;\n",
              "      }\n",
              "\n",
              "      [theme=dark] .colab-df-generate {\n",
              "        background-color: #3B4455;\n",
              "        fill: #D2E3FC;\n",
              "      }\n",
              "\n",
              "      [theme=dark] .colab-df-generate:hover {\n",
              "        background-color: #434B5C;\n",
              "        box-shadow: 0px 1px 3px 1px rgba(0, 0, 0, 0.15);\n",
              "        filter: drop-shadow(0px 1px 2px rgba(0, 0, 0, 0.3));\n",
              "        fill: #FFFFFF;\n",
              "      }\n",
              "    </style>\n",
              "    <button class=\"colab-df-generate\" onclick=\"generateWithVariable('df')\"\n",
              "            title=\"Generate code using this dataframe.\"\n",
              "            style=\"display:none;\">\n",
              "\n",
              "  <svg xmlns=\"http://www.w3.org/2000/svg\" height=\"24px\"viewBox=\"0 0 24 24\"\n",
              "       width=\"24px\">\n",
              "    <path d=\"M7,19H8.4L18.45,9,17,7.55,7,17.6ZM5,21V16.75L18.45,3.32a2,2,0,0,1,2.83,0l1.4,1.43a1.91,1.91,0,0,1,.58,1.4,1.91,1.91,0,0,1-.58,1.4L9.25,21ZM18.45,9,17,7.55Zm-12,3A5.31,5.31,0,0,0,4.9,8.1,5.31,5.31,0,0,0,1,6.5,5.31,5.31,0,0,0,4.9,4.9,5.31,5.31,0,0,0,6.5,1,5.31,5.31,0,0,0,8.1,4.9,5.31,5.31,0,0,0,12,6.5,5.46,5.46,0,0,0,6.5,12Z\"/>\n",
              "  </svg>\n",
              "    </button>\n",
              "    <script>\n",
              "      (() => {\n",
              "      const buttonEl =\n",
              "        document.querySelector('#id_46ffc36b-aba2-4192-ab5e-22245b8a040d button.colab-df-generate');\n",
              "      buttonEl.style.display =\n",
              "        google.colab.kernel.accessAllowed ? 'block' : 'none';\n",
              "\n",
              "      buttonEl.onclick = () => {\n",
              "        google.colab.notebook.generateWithVariable('df');\n",
              "      }\n",
              "      })();\n",
              "    </script>\n",
              "  </div>\n",
              "\n",
              "    </div>\n",
              "  </div>\n"
            ],
            "application/vnd.google.colaboratory.intrinsic+json": {
              "type": "dataframe",
              "variable_name": "df",
              "summary": "{\n  \"name\": \"df\",\n  \"rows\": 612,\n  \"fields\": [\n    {\n      \"column\": \"Name\",\n      \"properties\": {\n        \"dtype\": \"string\",\n        \"num_unique_values\": 450,\n        \"samples\": [\n          \"Ning Zhang\",\n          \"Yanick Fratantonio\",\n          \"Nicholas Carlini\"\n        ],\n        \"semantic_type\": \"\",\n        \"description\": \"\"\n      }\n    },\n    {\n      \"column\": \"Affiliation\",\n      \"properties\": {\n        \"dtype\": \"category\",\n        \"num_unique_values\": 283,\n        \"samples\": [\n          \"UC Santa Barbara\",\n          \"Tel Aviv University\",\n          \"William & Mary\"\n        ],\n        \"semantic_type\": \"\",\n        \"description\": \"\"\n      }\n    },\n    {\n      \"column\": \"Role\",\n      \"properties\": {\n        \"dtype\": \"category\",\n        \"num_unique_values\": 5,\n        \"samples\": [\n          \"Associate Chair\",\n          \"Rec Chair\",\n          \"Steering Committee\"\n        ],\n        \"semantic_type\": \"\",\n        \"description\": \"\"\n      }\n    },\n    {\n      \"column\": \"Year\",\n      \"properties\": {\n        \"dtype\": \"object\",\n        \"num_unique_values\": 3,\n        \"samples\": [\n          \"2022\",\n          \"2023\",\n          \"2024\"\n        ],\n        \"semantic_type\": \"\",\n        \"description\": \"\"\n      }\n    }\n  ]\n}"
            }
          },
          "metadata": {},
          "execution_count": 50
        }
      ]
    },
    {
      "cell_type": "code",
      "source": [
        "df.to_csv(\"IEEE.csv\", index=False)"
      ],
      "metadata": {
        "id": "4c3E8i4qWXl1"
      },
      "execution_count": null,
      "outputs": []
    }
  ]
}